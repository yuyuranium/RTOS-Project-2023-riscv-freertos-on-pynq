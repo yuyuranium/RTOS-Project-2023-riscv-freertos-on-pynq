{
 "cells": [
  {
   "cell_type": "code",
   "execution_count": 1,
   "id": "9bc41b99",
   "metadata": {},
   "outputs": [
    {
     "data": {
      "application/javascript": [
       "\n",
       "try {\n",
       "require(['notebook/js/codecell'], function(codecell) {\n",
       "  codecell.CodeCell.options_default.highlight_modes[\n",
       "      'magic_text/x-csrc'] = {'reg':[/^%%microblaze/]};\n",
       "  Jupyter.notebook.events.one('kernel_ready.Kernel', function(){\n",
       "      Jupyter.notebook.get_cells().map(function(cell){\n",
       "          if (cell.cell_type == 'code'){ cell.auto_highlight(); } }) ;\n",
       "  });\n",
       "});\n",
       "} catch (e) {};\n"
      ]
     },
     "metadata": {},
     "output_type": "display_data"
    },
    {
     "data": {
      "application/javascript": [
       "\n",
       "try {\n",
       "require(['notebook/js/codecell'], function(codecell) {\n",
       "  codecell.CodeCell.options_default.highlight_modes[\n",
       "      'magic_text/x-csrc'] = {'reg':[/^%%pybind11/]};\n",
       "  Jupyter.notebook.events.one('kernel_ready.Kernel', function(){\n",
       "      Jupyter.notebook.get_cells().map(function(cell){\n",
       "          if (cell.cell_type == 'code'){ cell.auto_highlight(); } }) ;\n",
       "  });\n",
       "});\n",
       "} catch (e) {};\n"
      ]
     },
     "metadata": {},
     "output_type": "display_data"
    },
    {
     "name": "stdout",
     "output_type": "stream",
     "text": [
      "Done loading bitfile: ./caslab_rtos_ibex_soc_design_2.bit\n",
      "Done loading bin: Lab1.bin\n",
      "Done reset ibex\n"
     ]
    }
   ],
   "source": [
    "from pynq import Overlay\n",
    "from pynq import MMIO\n",
    "\n",
    "# select the bitstrem to load\n",
    "bitfile_name = \"./caslab_rtos_ibex_soc_design_2.bit\"\n",
    "\n",
    "# select the program (*.bin) to load\n",
    "bin_name = \"Lab1.bin\"\n",
    "\n",
    "# loading overlay\n",
    "ol = Overlay(bitfile_name)\n",
    "print(\"Done loading bitfile:\", bitfile_name)\n",
    "\n",
    "# loading program to BRAM\n",
    "ol.device.load_ip_data(\"axi_bram_ctrl_0\", bin_name)\n",
    "print(\"Done loading bin:\", bin_name)\n",
    "\n",
    "# reset ibex and start running\n",
    "ibex_rst = ol.axi_gpio_1\n",
    "ibex_rst.write(0x0, 0x0)\n",
    "ibex_rst.write(0x8, 0x40000080) # start address\n",
    "ibex_rst.write(0x0, 0x1)\n",
    "print(\"Done reset ibex\")"
   ]
  }
 ],
 "metadata": {
  "kernelspec": {
   "display_name": "Python 3 (ipykernel)",
   "language": "python",
   "name": "python3"
  },
  "language_info": {
   "codemirror_mode": {
    "name": "ipython",
    "version": 3
   },
   "file_extension": ".py",
   "mimetype": "text/x-python",
   "name": "python",
   "nbconvert_exporter": "python",
   "pygments_lexer": "ipython3",
   "version": "3.10.4"
  }
 },
 "nbformat": 4,
 "nbformat_minor": 5
}
